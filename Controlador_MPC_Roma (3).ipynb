{
  "nbformat": 4,
  "nbformat_minor": 0,
  "metadata": {
    "colab": {
      "name": "Controlador_MPC_Roma.ipynb",
      "provenance": [],
      "collapsed_sections": []
    },
    "kernelspec": {
      "name": "python3",
      "display_name": "Python 3"
    }
  },
  "cells": [
    {
      "cell_type": "code",
      "metadata": {
        "id": "0PECxNSEkJXk"
      },
      "source": [
        "import osqp\n",
        "import numpy as np\n",
        "import scipy as sp\n",
        "from scipy import sparse"
      ],
      "execution_count": 1,
      "outputs": []
    },
    {
      "cell_type": "code",
      "metadata": {
        "id": "K4lKfW9ZnSMb"
      },
      "source": [
        "#Modelo do processo\n",
        "def reatorWilliamsOtto(t,x,d1,u1,u2,d2):\n",
        "  #Estados do sistema\n",
        "  Xa = float(x[0])\n",
        "  Xb = float(x[1])\n",
        "  Xc = float(x[2])\n",
        "  Xe = float(x[3])\n",
        "  Xg = float(x[4])\n",
        "  Xp = float(x[5])\n",
        "\n",
        "  FA = d1\n",
        "  uk1 = u1\n",
        "  uk2 = u2\n",
        "  W  = d2\n",
        "  \n",
        "  #Parâmetros\n",
        "  k10 = 1.6599e6\n",
        "  k20 = 7.2117e8\n",
        "  k30 = 2.6745e12\n",
        "  E1 = 6666.7\n",
        "  E2 = 8333.3\n",
        "  E3 = 11111\n",
        "\n",
        "  #Cálculos adicionais\n",
        "  k1 = k10*np.exp(-E1/(uk2+273))\n",
        "  k2 = k20*np.exp(-E2/(uk2+273))\n",
        "  k3 = k30*np.exp(-E3/(uk2+273))\n",
        "  r1 = k1*Xa*Xb*W\n",
        "  r2 = k2*Xb*Xc*W\n",
        "  r3 = k3*Xc*Xp*W\n",
        "\n",
        "  #Modelo matemático\n",
        "  dXa = FA/W - (FA + uk1)*(Xa/W) - r1/W\n",
        "  dXb = uk1/W - (FA + uk1)*(Xb/W) - r1/W - r2/W\n",
        "  dXc = - (FA + uk1)*(Xc/W) + 2*r1/W - 2*r2/W - r3/W\n",
        "  dXe = - (FA + uk1)*(Xe/W) + 2*r2/W\n",
        "  dXg = - (FA + uk1)*(Xg/W) + 1.5*r3/W\n",
        "  dXp = - (FA + uk1)*(Xp/W) + r2/W - 0.5*r3/W\n",
        "\n",
        "  dxdt = np.array([dXa,dXb,dXc,dXe,dXg,dXp])\n",
        "\n",
        "  return dxdt"
      ],
      "execution_count": 2,
      "outputs": []
    },
    {
      "cell_type": "code",
      "metadata": {
        "colab": {
          "base_uri": "https://localhost:8080/"
        },
        "id": "JTP1BB7GwMN5",
        "outputId": "73da3d58-92fc-4c27-9d52-f27bd89e473c"
      },
      "source": [
        "from scipy.signal import tf2ss\n",
        "!pip install control\n",
        "import control as cnt\n",
        "#Funções de transferência\n",
        "num = [[[-0.0001265],[0.00169]],[[-0.0000645,-0.00000007833],[-0.000002683]]]\n",
        "den = [[[1,0.00486],[1,0.9468]],[[1,0.01305,0.00002397],[1,0.003851]]]\n",
        "#G = cnt.TransferFunction(num,den)\n",
        "H = cnt.tf(num,den)\n",
        "print(H)"
      ],
      "execution_count": 3,
      "outputs": [
        {
          "output_type": "stream",
          "text": [
            "Collecting control\n",
            "\u001b[?25l  Downloading https://files.pythonhosted.org/packages/88/87/ee6cb7cdcf4efe5634231bd688b307773629a100ec4c83b0c3eb03edd39d/control-0.9.0.tar.gz (339kB)\n",
            "\r\u001b[K     |█                               | 10kB 13.9MB/s eta 0:00:01\r\u001b[K     |██                              | 20kB 18.8MB/s eta 0:00:01\r\u001b[K     |███                             | 30kB 14.3MB/s eta 0:00:01\r\u001b[K     |███▉                            | 40kB 10.9MB/s eta 0:00:01\r\u001b[K     |████▉                           | 51kB 7.4MB/s eta 0:00:01\r\u001b[K     |█████▉                          | 61kB 7.0MB/s eta 0:00:01\r\u001b[K     |██████▊                         | 71kB 7.7MB/s eta 0:00:01\r\u001b[K     |███████▊                        | 81kB 7.5MB/s eta 0:00:01\r\u001b[K     |████████▊                       | 92kB 8.1MB/s eta 0:00:01\r\u001b[K     |█████████▋                      | 102kB 6.9MB/s eta 0:00:01\r\u001b[K     |██████████▋                     | 112kB 6.9MB/s eta 0:00:01\r\u001b[K     |███████████▋                    | 122kB 6.9MB/s eta 0:00:01\r\u001b[K     |████████████▋                   | 133kB 6.9MB/s eta 0:00:01\r\u001b[K     |█████████████▌                  | 143kB 6.9MB/s eta 0:00:01\r\u001b[K     |██████████████▌                 | 153kB 6.9MB/s eta 0:00:01\r\u001b[K     |███████████████▌                | 163kB 6.9MB/s eta 0:00:01\r\u001b[K     |████████████████▍               | 174kB 6.9MB/s eta 0:00:01\r\u001b[K     |█████████████████▍              | 184kB 6.9MB/s eta 0:00:01\r\u001b[K     |██████████████████▍             | 194kB 6.9MB/s eta 0:00:01\r\u001b[K     |███████████████████▎            | 204kB 6.9MB/s eta 0:00:01\r\u001b[K     |████████████████████▎           | 215kB 6.9MB/s eta 0:00:01\r\u001b[K     |█████████████████████▎          | 225kB 6.9MB/s eta 0:00:01\r\u001b[K     |██████████████████████▎         | 235kB 6.9MB/s eta 0:00:01\r\u001b[K     |███████████████████████▏        | 245kB 6.9MB/s eta 0:00:01\r\u001b[K     |████████████████████████▏       | 256kB 6.9MB/s eta 0:00:01\r\u001b[K     |█████████████████████████▏      | 266kB 6.9MB/s eta 0:00:01\r\u001b[K     |██████████████████████████      | 276kB 6.9MB/s eta 0:00:01\r\u001b[K     |███████████████████████████     | 286kB 6.9MB/s eta 0:00:01\r\u001b[K     |████████████████████████████    | 296kB 6.9MB/s eta 0:00:01\r\u001b[K     |█████████████████████████████   | 307kB 6.9MB/s eta 0:00:01\r\u001b[K     |██████████████████████████████  | 317kB 6.9MB/s eta 0:00:01\r\u001b[K     |███████████████████████████████ | 327kB 6.9MB/s eta 0:00:01\r\u001b[K     |███████████████████████████████▉| 337kB 6.9MB/s eta 0:00:01\r\u001b[K     |████████████████████████████████| 348kB 6.9MB/s \n",
            "\u001b[?25hRequirement already satisfied: numpy in /usr/local/lib/python3.7/dist-packages (from control) (1.19.5)\n",
            "Requirement already satisfied: scipy in /usr/local/lib/python3.7/dist-packages (from control) (1.4.1)\n",
            "Requirement already satisfied: matplotlib in /usr/local/lib/python3.7/dist-packages (from control) (3.2.2)\n",
            "Requirement already satisfied: kiwisolver>=1.0.1 in /usr/local/lib/python3.7/dist-packages (from matplotlib->control) (1.3.1)\n",
            "Requirement already satisfied: pyparsing!=2.0.4,!=2.1.2,!=2.1.6,>=2.0.1 in /usr/local/lib/python3.7/dist-packages (from matplotlib->control) (2.4.7)\n",
            "Requirement already satisfied: cycler>=0.10 in /usr/local/lib/python3.7/dist-packages (from matplotlib->control) (0.10.0)\n",
            "Requirement already satisfied: python-dateutil>=2.1 in /usr/local/lib/python3.7/dist-packages (from matplotlib->control) (2.8.1)\n",
            "Requirement already satisfied: six in /usr/local/lib/python3.7/dist-packages (from cycler>=0.10->matplotlib->control) (1.15.0)\n",
            "Building wheels for collected packages: control\n",
            "  Building wheel for control (setup.py) ... \u001b[?25l\u001b[?25hdone\n",
            "  Created wheel for control: filename=control-0.9.0-py2.py3-none-any.whl size=344929 sha256=8d71676e5ba272cb3e4e87a565109eac802b4081d41c32c247d4ff04a5c00078\n",
            "  Stored in directory: /root/.cache/pip/wheels/35/be/ee/081b68ca3e4b2d253fba2f7f7e51960373903fb7b6d13c5532\n",
            "Successfully built control\n",
            "Installing collected packages: control\n",
            "Successfully installed control-0.9.0\n",
            "\n",
            "Input 1 to output 1:\n",
            "-0.0001265\n",
            "-----------\n",
            "s + 0.00486\n",
            "\n",
            "Input 1 to output 2:\n",
            "  -6.45e-05 s - 7.833e-08\n",
            "---------------------------\n",
            "s^2 + 0.01305 s + 2.397e-05\n",
            "\n",
            "Input 2 to output 1:\n",
            " 0.00169\n",
            "----------\n",
            "s + 0.9468\n",
            "\n",
            "Input 2 to output 2:\n",
            " -2.683e-06\n",
            "------------\n",
            "s + 0.003851\n",
            "\n"
          ],
          "name": "stdout"
        }
      ]
    },
    {
      "cell_type": "code",
      "metadata": {
        "colab": {
          "base_uri": "https://localhost:8080/"
        },
        "id": "q1ZA5mC9zlVw",
        "outputId": "da0af9fc-2ca3-480f-9161-c2bd479e3cca"
      },
      "source": [
        "#Convertendo o sistema em espaço de estados\n",
        "!pip install slycot\n",
        "from slycot import td04ad\n",
        "Gss = cnt.ss(H)\n",
        "print(Gss)"
      ],
      "execution_count": 4,
      "outputs": [
        {
          "output_type": "stream",
          "text": [
            "Collecting slycot\n",
            "\u001b[?25l  Downloading https://files.pythonhosted.org/packages/85/21/4e7110462f3529b2fbcff8a519b61bf64e0604b8fcbe9a07649c9bed9d7a/slycot-0.4.0.0.tar.gz (1.5MB)\n",
            "\u001b[K     |████████████████████████████████| 1.6MB 7.6MB/s \n",
            "\u001b[?25h  Installing build dependencies ... \u001b[?25l\u001b[?25hdone\n",
            "  Getting requirements to build wheel ... \u001b[?25l\u001b[?25hdone\n",
            "    Preparing wheel metadata ... \u001b[?25l\u001b[?25hdone\n",
            "Requirement already satisfied: numpy in /usr/local/lib/python3.7/dist-packages (from slycot) (1.19.5)\n",
            "Building wheels for collected packages: slycot\n",
            "  Building wheel for slycot (PEP 517) ... \u001b[?25l\u001b[?25hdone\n",
            "  Created wheel for slycot: filename=slycot-0.4.0-cp37-cp37m-linux_x86_64.whl size=1417856 sha256=155a97eccca4475a2f990e079ac1c31be0501a3dda347ec8e99a8e60cc6f7096\n",
            "  Stored in directory: /root/.cache/pip/wheels/a2/46/56/f82cbb2fd06556f4f3952a2eb2396e8fd29264fffecbaad3cf\n",
            "Successfully built slycot\n",
            "Installing collected packages: slycot\n",
            "Successfully installed slycot-0.4.0\n",
            "A = [[-9.50651000e-01  3.03576608e-17  3.64612680e-02  1.48445230e-16\n",
            "       1.80888389e-16]\n",
            "     [ 0.00000000e+00 -1.79100000e-02  1.21430643e-17 -8.73930000e-03\n",
            "      -1.16494200e-03]\n",
            "     [-1.00000000e-01  1.21430643e-17  2.93592226e-18 -2.44447918e-17\n",
            "       1.39327248e-17]\n",
            "     [ 0.00000000e+00  1.00000000e-02  2.34349675e-18 -2.47208790e-17\n",
            "      -1.59923665e-17]\n",
            "     [ 0.00000000e+00  0.00000000e+00 -6.93889390e-18  1.00000000e-02\n",
            "      -1.64798730e-17]]\n",
            "\n",
            "B = [[-2.08166817e-17 -1.00000000e+00]\n",
            "     [ 1.00000000e-01  0.00000000e+00]\n",
            "     [ 0.00000000e+00  0.00000000e+00]\n",
            "     [ 0.00000000e+00  0.00000000e+00]\n",
            "     [ 0.00000000e+00  0.00000000e+00]]\n",
            "\n",
            "C = [[-1.6900000e-03 -1.2650000e-03  6.5081900e-05 -1.6508250e-03\n",
            "      -3.0322050e-04]\n",
            "     [ 2.6830000e-06 -6.4500000e-04 -2.5402644e-05 -3.9180000e-04\n",
            "      -3.8068380e-05]]\n",
            "\n",
            "D = [[0. 0.]\n",
            "     [0. 0.]]\n",
            "\n"
          ],
          "name": "stdout"
        }
      ]
    },
    {
      "cell_type": "code",
      "metadata": {
        "id": "AgfF9pE93oBC"
      },
      "source": [
        "#Gerando as matrizes do MPC incremental com restrição\n",
        "def mpcgain_MIMO_Constrained(A,B,C,m,p,Q,nx,nu,ny):\n",
        "  A_e = np.eye(nx+ny,nx+ny)\n",
        "  A_e[0:nx,0:nx] = A\n",
        "  A_e[nx:nx+ny+1,0:nx] = C.dot(A)\n",
        "  B_e = np.zeros([nx+ny,nu])\n",
        "  B_e[0:nx,:] = B\n",
        "  B_e[nx:nx+ny+1,:] = C.dot(B)\n",
        "  C_e = np.zeros([ny,nx+ny])\n",
        "  C_e[:,nx:nx+ny+1] = np.eye(ny,ny)\n",
        "  \n",
        "  n = nx+ny\n",
        "  h = np.zeros([p*ny,nx+ny])\n",
        "  F = np.zeros([p*ny,nx+ny])\n",
        "  \n",
        "  h[0:ny,:] = C_e\n",
        "  F[0:ny,:] = C_e.dot(A_e)\n",
        "\n",
        "  for kk in range(ny,p*ny,nu):\n",
        "    h[kk:kk+ny,:] = h[kk-ny:kk,:].dot(A_e)\n",
        "    F[kk:kk+ny,:] = F[kk-ny:kk,:].dot(A_e)\n",
        "  \n",
        "  v = h.dot(B_e)\n",
        "  Phi = np.zeros([p*nu,m*nu])\n",
        "  Phi[:,0:nu] = v\n",
        "  Phi[:,nu:2*nu] = np.r_[np.zeros([nu,nu]),[v[0,:],v[1,:],v[2,:],v[3,:],v[4,:],v[5,:],v[6,:],v[7,:]]]\n",
        "  Phi[:,2*nu:3*nu] = np.r_[np.zeros([2*nu,nu]),[v[0,:],v[1,:],v[2,:],v[3,:],v[4,:],v[5,:]]]\n",
        "  #for i in range(nu,nu*m,nu):\n",
        "   # Phi[:,i:i+nu] = np.r_[np.zeros([i,nu]),[v[0,:],v[1,:],v[2,:],v[3,:]]]\n",
        "\n",
        "  \n",
        "  z = (ny*p,1)\n",
        "  Bars = np.ones(z)\n",
        "  Phi_T = np.transpose(Phi)\n",
        "  #print(Phi_T)\n",
        "  aa = Phi_T.dot(Q)\n",
        "  Phi_Phi = aa.dot(Phi)\n",
        "  #Phi_Phi = Phi_T*Q*Phi\n",
        "  bb = Phi_T.dot(Q)\n",
        "  Phi_F = aa.dot(F)\n",
        "  #Phi_F = Phi_T*Q*F\n",
        "  Phi_R = Phi_T.dot(Bars)\n",
        "\n",
        "  return Phi_Phi, Phi_F, Phi_R, A_e, B_e, C_e \n",
        "  "
      ],
      "execution_count": 5,
      "outputs": []
    },
    {
      "cell_type": "code",
      "metadata": {
        "id": "-gzjf7FaLbW6"
      },
      "source": [
        "def Kalman_Filter(arg1_1,arg1_2,arg1_3,arg1_4):\n",
        "  Ad = arg1_1\n",
        "  Cd = arg1_2\n",
        "  nx = arg1_3\n",
        "  ny = arg1_4\n",
        "  W_kf = np.eye(nx)\n",
        "  V_kf = np.eye(ny)\n",
        "  P_Kf = np.eye(nx)\n",
        "\n",
        "  for i in range(1,1000):\n",
        "    K = ((Ad.dot(P_Kf)).dot(np.transpose(Cd))).dot(np.linalg.inv(V_kf+(Cd.dot(P_Kf)).dot(np.transpose(Cd))))\n",
        "    P_kf = (Ad.dot(P_Kf)).dot(np.transpose(Ad)) - ((((Ad.dot(P_Kf)).dot(np.transpose(Cd))).dot(np.linalg.inv(V_kf+(Cd.dot(P_Kf)).dot(np.transpose(Cd)))).dot(Cd)).dot(P_Kf)).dot(np.transpose(Ad)) + W_kf\n",
        "\n",
        "  return K"
      ],
      "execution_count": 6,
      "outputs": []
    },
    {
      "cell_type": "code",
      "metadata": {
        "id": "ygO4XTWKMKlS"
      },
      "source": [
        "#Função para calcular as restrições da programação quadrática\n",
        "def RestU(arg1,arg2,arg3):\n",
        "\n",
        "  nu = arg1\n",
        "  m  = arg2\n",
        "  uk_1 = arg3\n",
        "\n",
        "  ukk_1 = uk_1\n",
        "\n",
        "  for k in range(1,m):\n",
        "    ukk_1 = np.r_[ukk_1,uk_1]\n",
        "\n",
        "  C2 = np.zeros([nu*m,nu*m])\n",
        "\n",
        "  for k in range(0,nu*m):\n",
        "    for j in range(0,nu*m):\n",
        "      if k>=j:\n",
        "        C2[k,j] = 1\n",
        "  return C2, ukk_1"
      ],
      "execution_count": 7,
      "outputs": []
    },
    {
      "cell_type": "code",
      "metadata": {
        "colab": {
          "base_uri": "https://localhost:8080/"
        },
        "id": "aCd1I_NKP-46",
        "outputId": "ab4367df-ab96-4aaa-937c-4c3e9ddb8abe"
      },
      "source": [
        "!pip install qpsolvers\n",
        "from qpsolvers import solve_qp"
      ],
      "execution_count": 8,
      "outputs": [
        {
          "output_type": "stream",
          "text": [
            "Collecting qpsolvers\n",
            "  Downloading https://files.pythonhosted.org/packages/d2/84/4775a9d3497fed47d77a1996baee409c8f67b670a00b75ac375036875168/qpsolvers-1.6.1-py3-none-any.whl\n",
            "Collecting quadprog>=0.1.8\n",
            "\u001b[?25l  Downloading https://files.pythonhosted.org/packages/31/c7/833d7b5b53fff5b9042803aa8096207d8e038ca42052f074d4ad8cddbfc5/quadprog-0.1.8.tar.gz (269kB)\n",
            "\u001b[K     |████████████████████████████████| 276kB 10.2MB/s \n",
            "\u001b[?25hRequirement already satisfied: Cython in /usr/local/lib/python3.7/dist-packages (from quadprog>=0.1.8->qpsolvers) (0.29.23)\n",
            "Building wheels for collected packages: quadprog\n",
            "  Building wheel for quadprog (setup.py) ... \u001b[?25l\u001b[?25hdone\n",
            "  Created wheel for quadprog: filename=quadprog-0.1.8-cp37-cp37m-linux_x86_64.whl size=336647 sha256=160c432f7da317581b6005df4a4a8c4c3504c4a706eca80419c9beffbfe876a5\n",
            "  Stored in directory: /root/.cache/pip/wheels/0c/39/5f/c712b0e462439dec9b30080cf34622f167929b39bd964d8baf\n",
            "Successfully built quadprog\n",
            "Installing collected packages: quadprog, qpsolvers\n",
            "Successfully installed qpsolvers-1.6.1 quadprog-0.1.8\n"
          ],
          "name": "stdout"
        }
      ]
    },
    {
      "cell_type": "code",
      "metadata": {
        "colab": {
          "base_uri": "https://localhost:8080/"
        },
        "id": "rBoreiXWPCZi",
        "outputId": "9ac95c26-48ce-493f-e97d-01d2dc4fab8a"
      },
      "source": [
        "pip install cvxopt"
      ],
      "execution_count": 9,
      "outputs": [
        {
          "output_type": "stream",
          "text": [
            "Requirement already satisfied: cvxopt in /usr/local/lib/python3.7/dist-packages (1.2.6)\n"
          ],
          "name": "stdout"
        }
      ]
    },
    {
      "cell_type": "code",
      "metadata": {
        "id": "s862x8FeR6LC"
      },
      "source": [
        "from cvxopt import matrix, solvers"
      ],
      "execution_count": 10,
      "outputs": []
    },
    {
      "cell_type": "code",
      "metadata": {
        "id": "v7-UGXuBOKNt"
      },
      "source": [
        "def cvxopt_solve_qp(P, q, G, h, A=None, b=None):\n",
        "    P = .5 * (P + P.T)  # make sure P is symmetric\n",
        "    args = [matrix(P), matrix(q)]\n",
        "    if G is not None:\n",
        "        args.extend([matrix(G), matrix(h)])\n",
        "        if A is not None:\n",
        "            args.extend([matrix(A), matrix(b)])\n",
        "    sol = solvers.qp(*args)\n",
        "    #print(np.array(sol['x']).reshape((P.shape[1],)))\n",
        "    if 'optimal' not in sol['status']:\n",
        "        return None\n",
        "    return np.array(sol['x']).reshape((P.shape[1],))"
      ],
      "execution_count": 11,
      "outputs": []
    },
    {
      "cell_type": "code",
      "metadata": {
        "id": "rxz46svSm0k3"
      },
      "source": [
        "from numpy import dot"
      ],
      "execution_count": 12,
      "outputs": []
    },
    {
      "cell_type": "code",
      "metadata": {
        "id": "syNcr21BAn-q"
      },
      "source": [
        "#Controlador MPC\n",
        "def MPC(arg1,arg2,arg3,arg4,arg5,arg6,arg7,\n",
        "        arg8,arg9,arg10,arg11,arg12,arg13,\n",
        "        arg14,arg15,arg16,arg17,arg18,arg19,\n",
        "        arg20,arg21,arg22,arg23,arg24,arg25,\n",
        "        arg26,arg27,arg28):\n",
        "  ypk = arg1\n",
        "  Yset = arg2\n",
        "  ts = arg3\n",
        "  p = arg4\n",
        "  m = arg5\n",
        "  Phi_Phi = arg6 \n",
        "  Phi_F = arg7\n",
        "  Phi_R = arg8\n",
        "  A_e = arg9 \n",
        "  B_e = arg10 \n",
        "  C_e = arg11\n",
        "  xm = arg12\n",
        "  Xf = arg13\n",
        "  nx = arg14 \n",
        "  ny = arg15 \n",
        "  nu = arg16\n",
        "  n = arg17\n",
        "  n_in = arg18\n",
        "  Q = arg19\n",
        "  R = arg20\n",
        "  uk_1 = arg21\n",
        "  #print(uk_1)\n",
        "  Dumax = arg22\n",
        "  Dumin = arg23\n",
        "  Umax = arg24\n",
        "  Umin = arg25\n",
        "  Ad = arg26\n",
        "  Bd = arg27\n",
        "  Cd = arg28\n",
        "  #print(ypk)\n",
        "  #Filtro de Kalman\n",
        "  K = Kalman_Filter(A,C,nx,ny)\n",
        "  #K = np.array([[1],[1],[0],[0],[0]])\n",
        "  #Calculando o setpoint\n",
        "  #Yset = np.array([[ysp1],[ysp2]])\n",
        "  #Yset = np.array([[ysp1],[ysp2]])\n",
        "  #ypk = np.array([[yp1],[yp2]])\n",
        "  #print(Yset)\n",
        "  #Matriz Hessiana da função quadrática otimizada\n",
        "  H1 = (Phi_Phi + R)\n",
        "  #print(H1)\n",
        "  #função ct\n",
        "  ct = -(Phi_F[:,n-(ny):n].dot(Yset)-Phi_F.dot(Xf))\n",
        "  #print(ct)\n",
        "  Pe = dot(H1.T, H1)  # quick way to build a symmetric matrix \n",
        "  \n",
        "  #Matrizes de restrição do controlador\n",
        "  C1 = np.eye(nu*m)\n",
        "  C2, ukk_1 = RestU(nu,m,uk_1)\n",
        "  A1_1 = np.r_[C1, -C1, C2, -C2]\n",
        "  b1_1 = np.r_[Dumax, Dumax, Umax-ukk_1, -Umin+ukk_1]\n",
        "  #print(H1)\n",
        "  #print(ct)\n",
        "  #A1_1 = np.r_[C2,-C2]\n",
        "  #b1_1 = np.r_[Umax-ukk_1, -Umin+ukk_1]\n",
        "  #Programação quadrática\n",
        "  Deltau = cvxopt_solve_qp(H1, ct, A1_1, b1_1, A=None, b=None)\n",
        "  #Seleção dos primeiros valores da sequência ótima das variáveis manipuladas\n",
        "  deltau = np.array([[Deltau[0]],[Deltau[1]]])\n",
        "  #print(Deltau)\n",
        "\n",
        "  #Atualização da variável manipulada\n",
        "  u = uk_1 + deltau\n",
        "\n",
        "  #Atualização das variáveis de estado do modelo MPC\n",
        "  xm_old = xm\n",
        "  xm = Ad.dot(xm_old) + Bd.dot(u)\n",
        "  #Correção do estado para cálculo da saída pelo filtro de Kalman\n",
        "  ym  = Cd.dot(xm)\n",
        "  xmk = xm + K.dot(ypk) - K.dot(ym)\n",
        "  xm  = xmk\n",
        "\n",
        "  #Variáveis para o modelo incremental\n",
        "  y  = Cd.dot(xmk)\n",
        "  Xf = np.r_[xm-xm_old,y]\n",
        "\n",
        "  return y, u, Xf, xm\n"
      ],
      "execution_count": 13,
      "outputs": []
    },
    {
      "cell_type": "code",
      "metadata": {
        "id": "Gwn5rTVzRW5Z"
      },
      "source": [
        "#Parâmetros do processo e de simulação\n",
        "dt = 30\n",
        "tinicial = 0\n",
        "tfinal = 300*dt\n",
        "FA = 1.8275\n",
        "\n",
        "#condição inicial\n",
        "u0 = np.array([[4.20272190259943],[85.9672169199226]])\n",
        "uk_1 = np.array([[0],[0]])\n",
        "uss = np.array([[4.20272190259943],[85.9672169199226]])\n",
        "W  = 2118.15669779829\n",
        "x0 = np.array([[0.108520660862867],[0.354880412893655],[0.0196295819273198],[0.295053132157847],[0.111584469119082],[0.110331743039229]])\n",
        "xss = np.array([[0.108520660862867],[0.354880412893655],[0.0196295819273198],[0.295053132157847],[0.111584469119082],[0.110331743039229]])\n",
        "y  = np.array([[0.295053132157847],[0.110331743039229]])\n",
        "yss  = np.array([[0.295053132157847],[0.110331743039229]])\n",
        "\n",
        "#Definindo o setpoint\n",
        "ysp  = np.array([[0.295053132157847],[0.110331743039229]])\n",
        "\n",
        "#Definindo os horizontes de predição e de controle\n",
        "p = 5\n",
        "m = 3\n",
        "\n",
        "#Matrizes do sistema ss\n",
        "A = np.array([[0.864330552009586,0,0,0,0],\n",
        "             [0,0.667712731567332,-0.151784519965271,0,0],\n",
        "             [0,0.0966227773509761,0.990510106141473,0,0],\n",
        "             [0,0,0,4.61635858349997e-13,0],\n",
        "             [0,0,0,0,0.890893845020821]])\n",
        "\n",
        "B = np.array([[0.436180066841609,0],\n",
        "              [0.193245554701952,0],\n",
        "              [0.0120821267094521,0],\n",
        "              [0,0.0330059146598918],\n",
        "              [0,0.0553357462850450]])\n",
        "\n",
        "C = np.array([[-0.00811520000000000,0,0,0.0540800000000000,0],\n",
        "              [0,-0.00825600000000000,-0.00256671744000000,0,-0.00137369600000000]])\n",
        "\n",
        "D = np.array([[0.,0.],\n",
        "              [0.,0.]])\n",
        "\n",
        "#definindo o tamanho do sistema\n",
        "nx = np.size(B, 0)\n",
        "nu = np.size(B, 1)\n",
        "ny = np.size(C, 0)\n",
        "\n",
        "#Parâmetros do controlador\n",
        "#Q = np.eye(10)\n",
        "#R = np.eye(6)\n",
        "\n",
        "qqq = np.array([10000,10000,10000,10000,10000,\n",
        "                10000,10000,10000,10000,10000])\n",
        "Q = np.diag(qqq)\n",
        "\n",
        "rrr = np.array([0.01,0.01,0.01,\n",
        "                0.01,0.01,0.01])\n",
        "R = np.diag(rrr)\n",
        "\n",
        "#print(Q)\n",
        "#Armazenando variáveis do modelo do MPC\n",
        "Phi_Phi, Phi_F, Phi_R, A_e, B_e, C_e = mpcgain_MIMO_Constrained(A,B,C,m,p,Q,nx,nu,ny)\n",
        "xm_1 = np.zeros([nx,1])\n",
        "n = np.size(B_e, 0)\n",
        "Xf_1 = np.zeros([n,1])\n",
        "n_in = np.size(B_e, 1)\n",
        "\n",
        "#Incremento de controle\n",
        "dumax = np.array([[0.5], [2]])\n",
        "dumin = np.array([[-0.5], [-2]])\n",
        "\n",
        "Dumax = dumax\n",
        "Dumin = dumin\n",
        "\n",
        "for i in range(1,3):\n",
        "  Dumax = np.r_[Dumax,dumax]\n",
        "  Dumin = np.r_[Dumin,dumin]\n",
        "\n",
        "#Limite das variáveis de controle\n",
        "umax = np.array([[10-4.20272190259943], [150-85.9672169199226]])\n",
        "umin = np.array([[2-4.20272190259943], [50-85.9672169199226]])\n",
        "\n",
        "Umax = umax\n",
        "Umin = umin\n",
        "\n",
        "for i in range(1,3):\n",
        "  Umax = np.r_[Umax,umax]\n",
        "  Umin = np.r_[Umin,umin]\n",
        "\n",
        "#Alocação de variáveis\n",
        "t0 = tinicial\n",
        "y1 = []\n",
        "y2 = []\n",
        "ySet1 = []\n",
        "ySet2 = []\n",
        "TT = []\n",
        "u11 = []\n",
        "u22 = []\n",
        "FAA = []"
      ],
      "execution_count": 14,
      "outputs": []
    },
    {
      "cell_type": "code",
      "metadata": {
        "id": "ulnrzM--Djx_"
      },
      "source": [
        "#qq = [500,500,500,5]\n",
        "#rr = np.array([0.1,10])\n",
        "\n",
        "#aux1 = []\n",
        "#for i in range(0,p*ny):\n",
        "#  aux1.append(qq)\n",
        "\n",
        "#Q = np.diag(np.diag(aux1))\n",
        "\n",
        "#aux2 = []\n",
        "#for i in range(0,m*nu):\n",
        " # aux2.append(rr)\n",
        "#print(aux1)"
      ],
      "execution_count": 15,
      "outputs": []
    },
    {
      "cell_type": "code",
      "metadata": {
        "id": "Nb6xTPWspWSY"
      },
      "source": [
        "from scipy.integrate import ode\n",
        "\n",
        "#Parâmetros para simulação do reator\n",
        "r = ode(reatorWilliamsOtto)\n",
        "\n",
        "#Simulação do reator\n",
        "while r.successful() and r.t < tfinal:\n",
        "  r.set_initial_value(x0, t0)\n",
        "  r.set_f_params(FA,u0[0],u0[1],W)\n",
        "  #if r.t >= 3000:\n",
        "    #u0[0] = 8\n",
        "  if r.t >= 3000:\n",
        "    ysp  = np.array([[1*(0.226538374444692-0.295053132157847)*(1-np.exp((-(r.t-3000)/154)))+0.295053132157847],\n",
        "                     [1*(0.0909106105441988-0.110331743039229)*(1-np.exp((-(r.t-3000)/195)))+0.110331743039229]])\n",
        "    #FA = 3.2\n",
        "  #if r.t >= 6000:\n",
        "    #FA = 1.8275\n",
        "  #print(r.t+dt, r.integrate(r.t+dt))\n",
        "  #y1.append(r.integrate(r.t+dt)[3])\n",
        "  yy = r.integrate(r.t+dt)\n",
        "\n",
        "  yp1 = yy[3]\n",
        "  yp2 = yy[5]\n",
        "  ypp = np.array([yp1,yp2])\n",
        "  yp = ypp-yss\n",
        "  \n",
        "  yspp = ysp-yss\n",
        "  #print(yspp)\n",
        "  \n",
        "  #uk0 = u0-uss\n",
        "  #print(uk0)\n",
        "  \n",
        "  yk, uk, Xfk, xmkk = MPC(yp,yspp,r.t,p,m,\n",
        "                     Phi_Phi,Phi_F,Phi_R,A_e,B_e,C_e,\n",
        "                     xm_1,Xf_1,nx,ny,nu,n,n_in,\n",
        "                     Q,R,uk_1,Dumax,Dumin,\n",
        "                     Umax,Umin,A,B,C)\n",
        "  u0 = uk+uss\n",
        "  uk_1 = uk\n",
        "  Xf_1 = Xfk\n",
        "  xm_1 = xmkk\n",
        "\n",
        "  y1.append(yk[0]+yss[0])\n",
        "  y2.append(yk[1]+yss[1])\n",
        "  ySet1.append(ysp[0])\n",
        "  ySet2.append(ysp[1])\n",
        "  u11.append(u0[0])\n",
        "  u22.append(u0[1])\n",
        "  FAA.append(FA)\n",
        "  TT.append(r.t)\n",
        "  x0 = r.y\n",
        "  t0 = r.t\n",
        "  #print(x0)\n"
      ],
      "execution_count": 16,
      "outputs": []
    },
    {
      "cell_type": "code",
      "metadata": {
        "colab": {
          "base_uri": "https://localhost:8080/",
          "height": 514
        },
        "id": "J351e9ZxmPOB",
        "outputId": "ce046be0-3cc1-49d5-f7bf-03b184dbc9ff"
      },
      "source": [
        "import matplotlib.pyplot as plt\n",
        "from matplotlib.ticker import FixedLocator\n",
        "from matplotlib.ticker import FixedFormatter\n",
        "#from matplotib import ticker\n",
        "plt.rcParams['figure.figsize'] = (20,8)\n",
        "ax1 = plt.subplot(221)\n",
        "ax1.plot(TT,y1,'b-', label = 'yp')\n",
        "ax1.plot(TT,ySet1,'k--', label = 'ysp')\n",
        "ax1.set_xlabel('tempo(s)')\n",
        "ax1.set_ylabel('y1')\n",
        "ax1.set_xlim([0,9000])\n",
        "#ax1.set_ylim([0.2950524,0.2950540])\n",
        "#ax1.yaxis.set_major_formatter(FixedFormatter([0.2950524,0.2950528,\n",
        " #                                             0.2950532,0.2950536,\n",
        "  #                                            0.2950540]))\n",
        "#ax1.yaxis.set_major_locator(ticker.FixedLocator([0.2950524,0.2950528,\n",
        " #                                                0.2950532,0.2950536,\n",
        "  #                                               0.2950540]))\n",
        "ax1.legend(loc=\"best\")\n",
        "\n",
        "ax2 = plt.subplot(222)\n",
        "ax2.plot(TT,y2,'b-', label = \"yp\")\n",
        "ax2.plot(TT,ySet2,'k--', label = \"ysp\")\n",
        "ax2.set_xlabel('tempo(s)')\n",
        "ax2.set_ylabel('y2')\n",
        "ax2.set_xlim([0,9000])\n",
        "#ax2.set_ylim([0.1103310,0.1103330])\n",
        "#ax2.yaxis.set_major_formatter(FixedFormatter([0.1103310,0.1103315,\n",
        " #                                             0.1103320,0.1103325,\n",
        "  #                                            0.1103330]))\n",
        "#ax2.yaxis.set_major_locator(ticker.FixedLocator([0.1103310,0.1103315,\n",
        " #                                                0.1103320,0.1103325,\n",
        "  #                                               0.1103330]))\n",
        "ax2.legend(loc=\"best\")\n",
        "\n",
        "ax3 = plt.subplot(223)\n",
        "ax3.plot(TT,u11,'b-', label = \"u1\")\n",
        "ax3.set_xlabel('tempo(s)')\n",
        "ax3.set_ylabel('u1')\n",
        "ax3.set_xlim([0,9000])\n",
        "#ax3.set_ylim([4.2024,4.2032])\n",
        "#ax3.yaxis.set_major_formatter(FixedFormatter([4.2024,4.2026,\n",
        " #                                             4.2028,4.2030,\n",
        "  #                                            4.2032]))\n",
        "#ax3.yaxis.set_major_locator(ticker.FixedLocator([4.2024,4.2026,\n",
        " #                                                4.2028,4.2030,\n",
        "  #                                               4.2032]))\n",
        "ax3.legend(loc=\"best\")\n",
        "\n",
        "ax4 = plt.subplot(224)\n",
        "ax4.plot(TT,u22,'b-', label = \"u2\")\n",
        "ax4.set_xlabel('tempo(s)')\n",
        "ax4.set_ylabel('u2')\n",
        "ax4.set_xlim([0,9000])\n",
        "#ax4.set_ylim([85.9660,85.9680])\n",
        "#ax4.yaxis.set_major_formatter(FixedFormatter([85.9660,85.9670,\n",
        " #                                             85.9680]))\n",
        "#ax4.yaxis.set_major_locator(ticker.FixedLocator([85.9660,85.9670,\n",
        " #                                                85.9680]))\n",
        "ax4.legend(loc=\"best\")"
      ],
      "execution_count": 17,
      "outputs": [
        {
          "output_type": "execute_result",
          "data": {
            "text/plain": [
              "<matplotlib.legend.Legend at 0x7f46cfec2ed0>"
            ]
          },
          "metadata": {
            "tags": []
          },
          "execution_count": 17
        },
        {
          "output_type": "display_data",
          "data": {
            "image/png": "[encoded data removed]",
            "text/plain": [
              "<Figure size 1440x576 with 4 Axes>"
            ]
          },
          "metadata": {
            "tags": [],
            "needs_background": "light"
          }
        }
      ]
    },
    {
      "cell_type": "code",
      "metadata": {
        "colab": {
          "base_uri": "https://localhost:8080/"
        },
        "id": "xXNbahdE8Gqy",
        "outputId": "8b56eded-2728-40db-c784-4a9ef4ac6fce"
      },
      "source": [
        "print(FAA)"
      ],
      "execution_count": 18,
      "outputs": [
        {
          "output_type": "stream",
          "text": [
            "[1.8275, 1.8275, 1.8275, 1.8275, 1.8275, 1.8275, 1.8275, 1.8275, 1.8275, 1.8275, 1.8275, 1.8275, 1.8275, 1.8275, 1.8275, 1.8275, 1.8275, 1.8275, 1.8275, 1.8275, 1.8275, 1.8275, 1.8275, 1.8275, 1.8275, 1.8275, 1.8275, 1.8275, 1.8275, 1.8275, 1.8275, 1.8275, 1.8275, 1.8275, 1.8275, 1.8275, 1.8275, 1.8275, 1.8275, 1.8275, 1.8275, 1.8275, 1.8275, 1.8275, 1.8275, 1.8275, 1.8275, 1.8275, 1.8275, 1.8275, 1.8275, 1.8275, 1.8275, 1.8275, 1.8275, 1.8275, 1.8275, 1.8275, 1.8275, 1.8275, 1.8275, 1.8275, 1.8275, 1.8275, 1.8275, 1.8275, 1.8275, 1.8275, 1.8275, 1.8275, 1.8275, 1.8275, 1.8275, 1.8275, 1.8275, 1.8275, 1.8275, 1.8275, 1.8275, 1.8275, 1.8275, 1.8275, 1.8275, 1.8275, 1.8275, 1.8275, 1.8275, 1.8275, 1.8275, 1.8275, 1.8275, 1.8275, 1.8275, 1.8275, 1.8275, 1.8275, 1.8275, 1.8275, 1.8275, 1.8275, 1.8275, 1.8275, 1.8275, 1.8275, 1.8275, 1.8275, 1.8275, 1.8275, 1.8275, 1.8275, 1.8275, 1.8275, 1.8275, 1.8275, 1.8275, 1.8275, 1.8275, 1.8275, 1.8275, 1.8275, 1.8275, 1.8275, 1.8275, 1.8275, 1.8275, 1.8275, 1.8275, 1.8275, 1.8275, 1.8275, 1.8275, 1.8275, 1.8275, 1.8275, 1.8275, 1.8275, 1.8275, 1.8275, 1.8275, 1.8275, 1.8275, 1.8275, 1.8275, 1.8275, 1.8275, 1.8275, 1.8275, 1.8275, 1.8275, 1.8275, 1.8275, 1.8275, 1.8275, 1.8275, 1.8275, 1.8275, 1.8275, 1.8275, 1.8275, 1.8275, 1.8275, 1.8275, 1.8275, 1.8275, 1.8275, 1.8275, 1.8275, 1.8275, 1.8275, 1.8275, 1.8275, 1.8275, 1.8275, 1.8275, 1.8275, 1.8275, 1.8275, 1.8275, 1.8275, 1.8275, 1.8275, 1.8275, 1.8275, 1.8275, 1.8275, 1.8275, 1.8275, 1.8275, 1.8275, 1.8275, 1.8275, 1.8275, 1.8275, 1.8275, 1.8275, 1.8275, 1.8275, 1.8275, 1.8275, 1.8275, 1.8275, 1.8275, 1.8275, 1.8275, 1.8275, 1.8275, 1.8275, 1.8275, 1.8275, 1.8275, 1.8275, 1.8275, 1.8275, 1.8275, 1.8275, 1.8275, 1.8275, 1.8275, 1.8275, 1.8275, 1.8275, 1.8275, 1.8275, 1.8275, 1.8275, 1.8275, 1.8275, 1.8275, 1.8275, 1.8275, 1.8275, 1.8275, 1.8275, 1.8275, 1.8275, 1.8275, 1.8275, 1.8275, 1.8275, 1.8275, 1.8275, 1.8275, 1.8275, 1.8275, 1.8275, 1.8275, 1.8275, 1.8275, 1.8275, 1.8275, 1.8275, 1.8275, 1.8275, 1.8275, 1.8275, 1.8275, 1.8275, 1.8275, 1.8275, 1.8275, 1.8275, 1.8275, 1.8275, 1.8275, 1.8275, 1.8275, 1.8275, 1.8275, 1.8275, 1.8275, 1.8275, 1.8275, 1.8275, 1.8275, 1.8275, 1.8275, 1.8275, 1.8275, 1.8275, 1.8275, 1.8275, 1.8275, 1.8275, 1.8275, 1.8275, 1.8275, 1.8275, 1.8275, 1.8275, 1.8275, 1.8275, 1.8275, 1.8275, 1.8275, 1.8275, 1.8275, 1.8275, 1.8275, 1.8275, 1.8275]\n"
          ],
          "name": "stdout"
        }
      ]
    }
  ]
}